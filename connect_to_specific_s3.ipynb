{
 "cells": [
  {
   "cell_type": "code",
   "execution_count": 22,
   "metadata": {},
   "outputs": [],
   "source": [
    "import boto3"
   ]
  },
  {
   "cell_type": "code",
   "execution_count": 17,
   "metadata": {},
   "outputs": [],
   "source": [
    "# config file for endpoint url in .aws folder\n",
    "import os\n",
    "config_file = '.custom_config'\n",
    "aws_path = os.path.join(os.environ['USERPROFILE'],'.aws',config_file)\n",
    "\n",
    "with open(aws_path,'r') as f:\n",
    "    lines = f.readlines()\n",
    "    \n",
    "endpoint = [i.split('=')[1].strip() for i in lines if i.startswith('endpoint_url')][0]"
   ]
  },
  {
   "cell_type": "code",
   "execution_count": 23,
   "metadata": {},
   "outputs": [],
   "source": [
    "# connect to specific endpoint / Credentials stays in .aws/credentials\n",
    "session = boto3.session.Session()\n",
    "\n",
    "s3_client = session.client(\n",
    "    service_name='s3',\n",
    "    endpoint_url=endpoint,\n",
    ")\n",
    "\n",
    "s3 = session.resource(\n",
    "    service_name='s3',\n",
    "    endpoint_url=endpoint,\n",
    ")"
   ]
  },
  {
   "cell_type": "code",
   "execution_count": 24,
   "metadata": {},
   "outputs": [
    {
     "name": "stdout",
     "output_type": "stream",
     "text": [
      "['DATALAB', 'machinelearning', 'tests']\n"
     ]
    }
   ],
   "source": [
    "blist=s3_client.list_buckets()\n",
    "name_list=[item['Name'] for item in blist['Buckets']]\n",
    "print(name_list)"
   ]
  },
  {
   "cell_type": "code",
   "execution_count": 35,
   "metadata": {},
   "outputs": [
    {
     "name": "stdout",
     "output_type": "stream",
     "text": [
      "test.txt\n",
      "test2.txt\n"
     ]
    }
   ],
   "source": [
    "bucket = s3.Bucket('machinelearning')\n",
    "bucket_objects = bucket.objects.all()\n",
    "for obj in bucket_objects:\n",
    "    print(obj.key)"
   ]
  },
  {
   "cell_type": "code",
   "execution_count": null,
   "metadata": {},
   "outputs": [],
   "source": [
    "# sort by last modfied (reverse) - get the last one\n",
    "bucket = s3.Bucket(bucket_name)\n",
    "bucket_objects = bucket.objects.filter(Prefix=path_to_files)\n",
    "unsorted = []\n",
    "for obj in bucket_objects:\n",
    "    unsorted.append([obj.key,int(obj.last_modified.strftime(\"%S\"))])\n",
    "\n",
    "# sort and get the last one\n",
    "last_file = sorted(unsorted, key=lambda l:l[1], reverse=True)[0][0]"
   ]
  },
  {
   "cell_type": "code",
   "execution_count": 26,
   "metadata": {},
   "outputs": [],
   "source": [
    "MyObject = s3.Object('DATALAB','MERP00_Connexion.xml')"
   ]
  },
  {
   "cell_type": "code",
   "execution_count": 27,
   "metadata": {},
   "outputs": [],
   "source": [
    "# Download file\n",
    "d = MyObject.download_file('./toto.xml')"
   ]
  },
  {
   "cell_type": "code",
   "execution_count": 28,
   "metadata": {},
   "outputs": [],
   "source": [
    "# Download file object?\n",
    "with open('toto2.xml', 'wb') as f:\n",
    "    MyObject.download_fileobj(f)"
   ]
  },
  {
   "cell_type": "code",
   "execution_count": 29,
   "metadata": {},
   "outputs": [
    {
     "data": {
      "text/plain": [
       "b'<?xml version = \\'1.0\\' encoding = \\'UTF-8\\'?>\\r\\n<References xmlns=\"http://xmlns.oracle.com/adf/jndi\">\\r\\n   <Reference name=\"MERP00\" className=\"oracle.jdeveloper.db.adapter.DatabaseProvider\" xmlns=\"\">\\r\\n      <Factory className=\"oracle.jdevimpl.db.adapter.DatabaseProviderFactory1212\"/>\\r\\n      <RefAddresses>\\r\\n         <StringRefAddr addrType=\"OracleConnectionType\">\\r\\n            <Contents>BASIC</Contents>\\r\\n         </StringRefAddr>\\r\\n         <StringRefAddr addrType=\"oraDriverType\">\\r\\n            <Contents>thin</Contents>\\r\\n         </StringRefAddr>\\r\\n         <StringRefAddr addrType=\"port\">\\r\\n            <Contents>1521</Contents>\\r\\n         </StringRefAddr>\\r\\n         <StringRefAddr addrType=\"user\">\\r\\n            <Contents>MERP00_READ</Contents>\\r\\n         </StringRefAddr>\\r\\n         <StringRefAddr addrType=\"role\">\\r\\n            <Contents/>\\r\\n         </StringRefAddr>\\r\\n         <StringRefAddr addrType=\"NoPasswordConnection\">\\r\\n            <Contents>TRUE</Contents>\\r\\n         </StringRefAddr>\\r\\n         <StringRefAddr addrType=\"subtype\">\\r\\n            <Contents>oraJDBC</Contents>\\r\\n         </StringRefAddr>\\r\\n         <StringRefAddr addrType=\"serviceName\">\\r\\n            <Contents>PMERTPG1</Contents>\\r\\n         </StringRefAddr>\\r\\n         <StringRefAddr addrType=\"OS_AUTHENTICATION\">\\r\\n            <Contents>false</Contents>\\r\\n         </StringRefAddr>\\r\\n         <StringRefAddr addrType=\"KERBEROS_AUTHENTICATION\">\\r\\n            <Contents>false</Contents>\\r\\n         </StringRefAddr>\\r\\n         <StringRefAddr addrType=\"ConnName\">\\r\\n            <Contents>MERP00</Contents>\\r\\n         </StringRefAddr>\\r\\n         <StringRefAddr addrType=\"RaptorConnectionType\">\\r\\n            <Contents>Oracle</Contents>\\r\\n         </StringRefAddr>\\r\\n         <StringRefAddr addrType=\"hostname\">\\r\\n            <Contents>pmertpga01.ext.tdc</Contents>\\r\\n         </StringRefAddr>\\r\\n         <StringRefAddr addrType=\"customUrl\">\\r\\n            <Contents>jdbc:oracle:thin:@pmertpga01.ext.tdc:1521/PMERTPG1</Contents>\\r\\n         </StringRefAddr>\\r\\n         <StringRefAddr addrType=\"SavePassword\">\\r\\n            <Contents>true</Contents>\\r\\n         </StringRefAddr>\\r\\n         <StringRefAddr addrType=\"password\">\\r\\n            <Contents>RbJuhTa9s8I=</Contents>\\r\\n         </StringRefAddr>\\r\\n         <StringRefAddr addrType=\"driver\">\\r\\n            <Contents>oracle.jdbc.OracleDriver</Contents>\\r\\n         </StringRefAddr>\\r\\n      </RefAddresses>\\r\\n   </Reference>\\r\\n</References>'"
      ]
     },
     "execution_count": 29,
     "metadata": {},
     "output_type": "execute_result"
    }
   ],
   "source": [
    "# read without temp file\n",
    "x = MyObject.get()\n",
    "x['Body'].read()"
   ]
  },
  {
   "cell_type": "code",
   "execution_count": 30,
   "metadata": {},
   "outputs": [],
   "source": [
    "# Upload the file\n",
    "\n",
    "file_name = 'untitled.txt'\n",
    "object_name = 'test.txt'\n",
    "bucket = 'machinelearning'\n",
    "\n",
    "try:\n",
    "    s3_client.upload_file(file_name, bucket, object_name)\n",
    "except ClientError as e:\n",
    "    logging.error(e)\n"
   ]
  },
  {
   "cell_type": "code",
   "execution_count": 34,
   "metadata": {},
   "outputs": [],
   "source": [
    "# Upload the file\n",
    "\n",
    "file_name = 'untitled.txt'\n",
    "object_name = 'test2.txt'\n",
    "bucket = 'machinelearning'\n",
    "\n",
    "with open(file_name, \"rb\") as f:\n",
    "    s3_client.upload_fileobj(f, bucket, object_name)"
   ]
  },
  {
   "cell_type": "code",
   "execution_count": 37,
   "metadata": {},
   "outputs": [
    {
     "data": {
      "text/plain": [
       "{'ResponseMetadata': {'RequestId': '0a631123:1725a0fba78:2a4c9:40f',\n",
       "  'HostId': 'fd37b9b86ba60c9861b2975c1c58ef35520ecf978a61a95214ea6c1c15b369a2',\n",
       "  'HTTPStatusCode': 204,\n",
       "  'HTTPHeaders': {'date': 'Tue, 23 Jun 2020 08:20:40 GMT',\n",
       "   'server': 'ViPR/1.0',\n",
       "   'x-amz-request-id': '0a631123:1725a0fba78:2a4c9:40f',\n",
       "   'x-amz-id-2': 'fd37b9b86ba60c9861b2975c1c58ef35520ecf978a61a95214ea6c1c15b369a2',\n",
       "   'x-emc-previous-object-size': '3',\n",
       "   'content-length': '0'},\n",
       "  'RetryAttempts': 0}}"
      ]
     },
     "execution_count": 37,
     "metadata": {},
     "output_type": "execute_result"
    }
   ],
   "source": [
    "# delete file\n",
    "\n",
    "object_name = 'test2.txt'\n",
    "bucket = 'machinelearning'\n",
    "\n",
    "s3_client.delete_object(Bucket=bucket,Key=object_name)"
   ]
  },
  {
   "cell_type": "code",
   "execution_count": null,
   "metadata": {},
   "outputs": [],
   "source": []
  }
 ],
 "metadata": {
  "kernelspec": {
   "display_name": "Lab37",
   "language": "python",
   "name": "lab37"
  },
  "language_info": {
   "codemirror_mode": {
    "name": "ipython",
    "version": 3
   },
   "file_extension": ".py",
   "mimetype": "text/x-python",
   "name": "python",
   "nbconvert_exporter": "python",
   "pygments_lexer": "ipython3",
   "version": "3.7.7"
  }
 },
 "nbformat": 4,
 "nbformat_minor": 4
}
